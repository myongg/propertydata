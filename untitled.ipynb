{
  "nbformat": 4,
  "nbformat_minor": 0,
  "metadata": {
    "colab": {
      "provenance": [],
      "include_colab_link": true
    },
    "kernelspec": {
      "name": "python3",
      "display_name": "Python 3"
    },
    "language_info": {
      "name": "python"
    }
  },
  "cells": [
    {
      "cell_type": "markdown",
      "metadata": {
        "id": "view-in-github",
        "colab_type": "text"
      },
      "source": [
        "<a href=\"https://colab.research.google.com/github/myongg/propertydata/blob/main/untitled.ipynb\" target=\"_parent\"><img src=\"https://colab.research.google.com/assets/colab-badge.svg\" alt=\"Open In Colab\"/></a>"
      ]
    },
    {
      "cell_type": "code",
      "execution_count": null,
      "metadata": {
        "id": "vaeHOBj9Gh3c"
      },
      "outputs": [],
      "source": [
        "import pandas as pd"
      ]
    },
    {
      "cell_type": "markdown",
      "source": [
        "오피스텔 별 제곱미터당 가격"
      ],
      "metadata": {
        "id": "zgwGjuPEeV_a"
      }
    },
    {
      "cell_type": "code",
      "source": [
        "neoplus = pd.read_csv(\"네오플러스 통합.csv\", encoding='cp949')\n",
        "enplus = pd.read_csv(\"강남앤플러스통합.csv\", encoding='cp949')\n",
        "palace = pd.read_csv(\"강남팰리스뷰 통합.csv\", encoding='cp949')\n",
        "pias = pd.read_csv(\"강남피아스통합.csv\", encoding='cp949')\n",
        "hanjin = pd.read_csv(\"한진에버빌 통합.csv\", encoding='cp949')"
      ],
      "metadata": {
        "id": "B5Sb7BtuHCXD"
      },
      "execution_count": null,
      "outputs": []
    },
    {
      "cell_type": "code",
      "source": [
        "neoplus2018 = neoplus[neoplus['계약년월'].astype(str).str.startswith('2018')]\n",
        "enplus2018 = enplus[enplus['계약년월'].astype(str).str.startswith('2018')]\n",
        "palace2018 = palace[palace['계약년월'].astype(str).str.startswith('2018')]\n",
        "pias2018 = pias[pias['계약년월'].astype(str).str.startswith('2018')]\n",
        "hanjin2018 = hanjin[hanjin['계약년월'].astype(str).str.startswith('2018')]\n",
        "\n",
        "neoplus2019 = neoplus[neoplus['계약년월'].astype(str).str.startswith('2019')]\n",
        "enplus2019 = enplus[enplus['계약년월'].astype(str).str.startswith('2019')]\n",
        "palace2019 = palace[palace['계약년월'].astype(str).str.startswith('2019')]\n",
        "pias2019 = pias[pias['계약년월'].astype(str).str.startswith('2019')]\n",
        "hanjin2019 = hanjin[hanjin['계약년월'].astype(str).str.startswith('2019')]\n",
        "\n",
        "neoplus2020 = neoplus[neoplus['계약년월'].astype(str).str.startswith('2020')]\n",
        "enplus2020 = enplus[enplus['계약년월'].astype(str).str.startswith('2020')]\n",
        "palace2020 = palace[palace['계약년월'].astype(str).str.startswith('2020')]\n",
        "pias2020 = pias[pias['계약년월'].astype(str).str.startswith('2020')]\n",
        "hanjin2020 = hanjin[hanjin['계약년월'].astype(str).str.startswith('2020')]\n",
        "\n",
        "neoplus2021 = neoplus[neoplus['계약년월'].astype(str).str.startswith('2021')]\n",
        "enplus2021 = enplus[enplus['계약년월'].astype(str).str.startswith('2021')]\n",
        "palace2021 = palace[palace['계약년월'].astype(str).str.startswith('2021')]\n",
        "pias2021 = pias[pias['계약년월'].astype(str).str.startswith('2021')]\n",
        "hanjin2021 = hanjin[hanjin['계약년월'].astype(str).str.startswith('2021')]\n",
        "\n",
        "neoplus2022 = neoplus[neoplus['계약년월'].astype(str).str.startswith('2022')]\n",
        "enplus2022 = enplus[enplus['계약년월'].astype(str).str.startswith('2022')]\n",
        "palace2022 = palace[palace['계약년월'].astype(str).str.startswith('2022')]\n",
        "pias2022 = pias[pias['계약년월'].astype(str).str.startswith('2022')]\n",
        "hanjin2022 = hanjin[hanjin['계약년월'].astype(str).str.startswith('2022')]\n",
        "\n",
        "neoplus2023 = neoplus[neoplus['계약년월'].astype(str).str.startswith('2023')]\n",
        "enplus2023 = enplus[enplus['계약년월'].astype(str).str.startswith('2023')]\n",
        "palace2023 = palace[palace['계약년월'].astype(str).str.startswith('2023')]\n",
        "pias2023 = pias[pias['계약년월'].astype(str).str.startswith('2023')]\n",
        "hanjin2023 = hanjin[hanjin['계약년월'].astype(str).str.startswith('2023')]"
      ],
      "metadata": {
        "id": "aeIT_X0nIoUK"
      },
      "execution_count": null,
      "outputs": []
    },
    {
      "cell_type": "code",
      "source": [
        "neoplus2018_average = neoplus2018.전환후가격 / neoplus2018.전용면적\n",
        "enplus2018_average = enplus2018.전환후가격 / enplus2018.전용면적\n",
        "palace2018_average = palace2018.전환후가격 / palace2018.전용면적\n",
        "pias2018_average = pias2018.전환후가격 / pias2018.전용면적\n",
        "hanjin2018_average = hanjin2018.전환후가격 / hanjin2018.전용면적\n",
        "\n",
        "a2018=[\"enplus\",\"palace\",\"pias\",\"neoplus\",\"hanjin\"]\n",
        "b2018=[enplus2018_average.mean(),palace2018_average.mean(),pias2018_average.mean(),neoplus2018_average.mean(),hanjin2018_average.mean()]\n",
        "\n",
        "import matplotlib.pyplot as plt\n",
        "\n",
        "# 막대 그래프 생성\n",
        "plt.bar(a2018,b2018)\n",
        "\n",
        "# 제목과 레이블 설정\n",
        "plt.title(\"2018_office_price_avarage\")\n",
        "plt.xlabel(\"office_name\")\n",
        "plt.ylabel(\"price\")\n",
        "\n",
        "# 그래프 표시\n",
        "plt.show()"
      ],
      "metadata": {
        "colab": {
          "base_uri": "https://localhost:8080/",
          "height": 472
        },
        "id": "84CZjDDMJFNn",
        "outputId": "cb08384f-1016-4b3d-c86b-5ff5f9ab7d18"
      },
      "execution_count": null,
      "outputs": [
        {
          "output_type": "display_data",
          "data": {
            "text/plain": [
              "<Figure size 640x480 with 1 Axes>"
            ],
            "image/png": "[encoded data removed]"
          },
          "metadata": {}
        }
      ]
    },
    {
      "cell_type": "code",
      "source": [
        "neoplus2019_average = neoplus2019.전환후가격 / neoplus2019.전용면적\n",
        "enplus2019_average = enplus2019.전환후가격 / enplus2019.전용면적\n",
        "palace2019_average = palace2019.전환후가격 / palace2019.전용면적\n",
        "pias2019_average = pias2019.전환후가격 / pias2019.전용면적\n",
        "hanjin2019_average = hanjin2019.전환후가격 / hanjin2019.전용면적\n",
        "\n",
        "a2019=[\"enplus\",\"palace\",\"pias\",\"neoplus\",\"hanjin\"]\n",
        "b2019=[enplus2019_average.mean(),palace2019_average.mean(),pias2019_average.mean(),neoplus2019_average.mean(),hanjin2019_average.mean()]\n",
        "\n",
        "import matplotlib.pyplot as plt\n",
        "\n",
        "# 막대 그래프 생성\n",
        "plt.bar(a2019,b2019)\n",
        "\n",
        "# 제목과 레이블 설정\n",
        "plt.title(\"2019_office_price_avarage\")\n",
        "plt.xlabel(\"office_name\")\n",
        "plt.ylabel(\"price\")\n",
        "\n",
        "# 그래프 표시\n",
        "plt.show()\n"
      ],
      "metadata": {
        "colab": {
          "base_uri": "https://localhost:8080/",
          "height": 472
        },
        "id": "i8teQJ3MCzM4",
        "outputId": "2c472cb9-5aeb-4eb6-aa67-4c3e716ffcc3"
      },
      "execution_count": null,
      "outputs": [
        {
          "output_type": "display_data",
          "data": {
            "text/plain": [
              "<Figure size 640x480 with 1 Axes>"
            ],
            "image/png": "[encoded data removed]"
          },
          "metadata": {}
        }
      ]
    },
    {
      "cell_type": "code",
      "source": [
        "neoplus2020_average = neoplus2020.전환후가격 / neoplus2020.전용면적\n",
        "enplus2020_average = enplus2020.전환후가격 / enplus2020.전용면적\n",
        "palace2020_average = palace2020.전환후가격 / palace2020.전용면적\n",
        "pias2020_average = pias2020.전환후가격 / pias2020.전용면적\n",
        "hanjin2020_average = hanjin2020.전환후가격 / hanjin2020.전용면적\n",
        "\n",
        "a2020=[\"enplus\",\"palace\",\"pias\",\"neoplus\",\"hanjin\"]\n",
        "b2020=[enplus2020_average.mean(),palace2020_average.mean(),pias2020_average.mean(),neoplus2020_average.mean(),hanjin2020_average.mean()]\n",
        "\n",
        "import matplotlib.pyplot as plt\n",
        "\n",
        "# 막대 그래프 생성\n",
        "plt.bar(a2020,b2020)\n",
        "\n",
        "# 제목과 레이블 설정\n",
        "plt.title(\"2020_office_price_avarage\")\n",
        "plt.xlabel(\"office_name\")\n",
        "plt.ylabel(\"price\")\n",
        "\n",
        "# 그래프 표시\n",
        "plt.show()\n"
      ],
      "metadata": {
        "colab": {
          "base_uri": "https://localhost:8080/",
          "height": 472
        },
        "id": "LYFdPry0DIqH",
        "outputId": "29c4612b-8f30-4fe1-a8da-5bf0d5664fc5"
      },
      "execution_count": null,
      "outputs": [
        {
          "output_type": "display_data",
          "data": {
            "text/plain": [
              "<Figure size 640x480 with 1 Axes>"
            ],
            "image/png": "[encoded data removed]"
          },
          "metadata": {}
        }
      ]
    },
    {
      "cell_type": "code",
      "source": [
        "neoplus2021_average = neoplus2021.전환후가격 / neoplus2021.전용면적\n",
        "enplus2021_average = enplus2021.전환후가격 / enplus2021.전용면적\n",
        "palace2021_average = palace2021.전환후가격 / palace2021.전용면적\n",
        "pias2021_average = pias2021.전환후가격 / pias2021.전용면적\n",
        "hanjin2021_average = hanjin2021.전환후가격 / hanjin2021.전용면적\n",
        "\n",
        "a2021=[\"enplus\",\"palace\",\"pias\",\"neoplus\",\"hanjin\"]\n",
        "b2021=[enplus2021_average.mean(),palace2021_average.mean(),pias2021_average.mean(),neoplus2021_average.mean(),hanjin2021_average.mean()]\n",
        "\n",
        "import matplotlib.pyplot as plt\n",
        "\n",
        "# 막대 그래프 생성\n",
        "plt.bar(a2021,b2021)\n",
        "\n",
        "# 제목과 레이블 설정\n",
        "plt.title(\"2021_office_price_avarage\")\n",
        "plt.xlabel(\"office_name\")\n",
        "plt.ylabel(\"price\")\n",
        "\n",
        "# 그래프 표시\n",
        "plt.show()\n"
      ],
      "metadata": {
        "colab": {
          "base_uri": "https://localhost:8080/",
          "height": 472
        },
        "id": "aMZRua6QDV46",
        "outputId": "0065eb31-963e-4dfb-d89c-c60fe1ab1c66"
      },
      "execution_count": null,
      "outputs": [
        {
          "output_type": "display_data",
          "data": {
            "text/plain": [
              "<Figure size 640x480 with 1 Axes>"
            ],
            "image/png": "[encoded data removed]"
          },
          "metadata": {}
        }
      ]
    },
    {
      "cell_type": "markdown",
      "source": [
        "모든 데이터를 합침"
      ],
      "metadata": {
        "id": "liBDp6UImxjy"
      }
    },
    {
      "cell_type": "code",
      "source": [
        "neoplus2022_average = neoplus2022.전환후가격 / neoplus2022.전용면적\n",
        "enplus2022_average = enplus2022.전환후가격 / enplus2022.전용면적\n",
        "palace2022_average = palace2022.전환후가격 / palace2022.전용면적\n",
        "pias2022_average = pias2022.전환후가격 / pias2022.전용면적\n",
        "hanjin2022_average = hanjin2022.전환후가격 / hanjin2022.전용면적\n",
        "\n",
        "a2022=[\"enplus\",\"palace\",\"pias\",\"neoplus\",\"hanjin\"]\n",
        "b2022=[enplus2022_average.mean(),palace2022_average.mean(),pias2022_average.mean(),neoplus2022_average.mean(),hanjin2022_average.mean()]\n",
        "\n",
        "import matplotlib.pyplot as plt\n",
        "\n",
        "# 막대 그래프 생성\n",
        "plt.bar(a2022,b2022)\n",
        "\n",
        "# 제목과 레이블 설정\n",
        "plt.title(\"2022_office_price_avarage\")\n",
        "plt.xlabel(\"office_name\")\n",
        "plt.ylabel(\"price\")\n",
        "\n",
        "# 그래프 표시\n",
        "plt.show()\n"
      ],
      "metadata": {
        "colab": {
          "base_uri": "https://localhost:8080/",
          "height": 472
        },
        "id": "NAncwb9lDYi0",
        "outputId": "7d842bc3-5b50-4889-dc68-d3eef17a9681"
      },
      "execution_count": null,
      "outputs": [
        {
          "output_type": "display_data",
          "data": {
            "text/plain": [
              "<Figure size 640x480 with 1 Axes>"
            ],
            "image/png": "[encoded data removed]"
          },
          "metadata": {}
        }
      ]
    },
    {
      "cell_type": "code",
      "source": [
        "neoplus2023_average = neoplus2023.전환후가격 / neoplus2023.전용면적\n",
        "enplus2023_average = enplus2023.전환후가격 / enplus2023.전용면적\n",
        "palace2023_average = palace2023.전환후가격 / palace2023.전용면적\n",
        "pias2023_average = pias2023.전환후가격 / pias2023.전용면적\n",
        "hanjin2023_average = hanjin2023.전환후가격 / hanjin2023.전용면적\n",
        "\n",
        "a2023=[\"enplus\",\"palace\",\"pias\",\"neoplus\",\"hanjin\"]\n",
        "b2023=[enplus2023_average.mean(),palace2023_average.mean(),pias2023_average.mean(),neoplus2023_average.mean(),hanjin2023_average.mean()]\n",
        "\n",
        "import matplotlib.pyplot as plt\n",
        "\n",
        "# 막대 그래프 생성\n",
        "plt.bar(a2023,b2023)\n",
        "\n",
        "# 제목과 레이블 설정\n",
        "plt.title(\"2023_office_price_avarage\")\n",
        "plt.xlabel(\"office_name\")\n",
        "plt.ylabel(\"price\")\n",
        "\n",
        "# 그래프 표시\n",
        "plt.show()\n"
      ],
      "metadata": {
        "colab": {
          "base_uri": "https://localhost:8080/",
          "height": 472
        },
        "id": "whXwCOoyDdXS",
        "outputId": "a9d9e705-4413-46a4-9595-f7d9c2cfcb7d"
      },
      "execution_count": null,
      "outputs": [
        {
          "output_type": "display_data",
          "data": {
            "text/plain": [
              "<Figure size 640x480 with 1 Axes>"
            ],
            "image/png": "[encoded data removed]"
          },
          "metadata": {}
        }
      ]
    },
    {
      "cell_type": "code",
      "source": [
        "areaneoplus=neoplus.전용면적\n",
        "areaenplus=enplus.전용면적\n",
        "areapalace=palace.전용면적\n",
        "areapias=pias.전용면적\n",
        "areahanjin=hanjin.전용면적"
      ],
      "metadata": {
        "id": "iBQz77HiHM3S"
      },
      "execution_count": null,
      "outputs": []
    },
    {
      "cell_type": "code",
      "source": [
        "name=[\"enplus\",\"palace\",\"pias\",\"neoplus\",\"hanjin\"]\n",
        "value=[areaenplus.mean(),areapalace.mean(),areapias.mean(),areaneoplus.mean(),areahanjin.mean()]\n",
        "\n",
        "import matplotlib.pyplot as plt\n",
        "\n",
        "# 막대 그래프 생성\n",
        "plt.bar(name,value)\n",
        "\n",
        "# 제목과 레이블 설정\n",
        "plt.title(\"area_mean\")\n",
        "plt.xlabel(\"office_name\")\n",
        "plt.ylabel(\"area\")\n",
        "\n",
        "# 그래프 표시\n",
        "plt.show()"
      ],
      "metadata": {
        "colab": {
          "base_uri": "https://localhost:8080/",
          "height": 472
        },
        "id": "H7zzO6zSHQaR",
        "outputId": "2ffa5217-bd78-4669-848e-57abd41f405c"
      },
      "execution_count": null,
      "outputs": [
        {
          "output_type": "display_data",
          "data": {
            "text/plain": [
              "<Figure size 640x480 with 1 Axes>"
            ],
            "image/png": "[encoded data removed]"
          },
          "metadata": {}
        }
      ]
    },
    {
      "cell_type": "code",
      "source": [
        "data = pd.concat([enplus,palace,pias,neoplus,hanjin])\n",
        "data"
      ],
      "metadata": {
        "colab": {
          "base_uri": "https://localhost:8080/",
          "height": 1000
        },
        "id": "uM2HHUcbjfCL",
        "outputId": "a16eacf1-619a-4d90-b1e4-dc5460dc1084"
      },
      "execution_count": null,
      "outputs": [
        {
          "output_type": "execute_result",
          "data": {
            "text/plain": [
              "              시군구     번지   본번  부번     단지명 전월세구분   전용면적    계약년월  계약일     보증금  \\\n",
              "0   경기도 용인기흥구 구갈동  581-1  581   1  강남앤플러스    월세  11.03  201802   13     100   \n",
              "1   경기도 용인기흥구 구갈동  581-1  581   1  강남앤플러스    월세  13.77  201911   19     200   \n",
              "2   경기도 용인기흥구 구갈동  581-1  581   1  강남앤플러스    월세  12.63  202109   25     100   \n",
              "3   경기도 용인기흥구 구갈동  581-1  581   1  강남앤플러스    월세  10.58  202208   10     100   \n",
              "4   경기도 용인기흥구 구갈동  581-1  581   1  강남앤플러스    월세  13.47  202211    1     100   \n",
              "..            ...    ...  ...  ..     ...   ...    ...     ...  ...     ...   \n",
              "36  경기도 용인기흥구 구갈동  582-4  582   4   한진에버빌    월세  28.51  202209    6     200   \n",
              "37  경기도 용인기흥구 구갈동  582-4  582   4   한진에버빌    월세  50.89  202212    1   1,059   \n",
              "38  경기도 용인기흥구 구갈동  582-4  582   4   한진에버빌    전세  23.73  202212   27  11,000   \n",
              "39  경기도 용인기흥구 구갈동  582-4  582   4   한진에버빌    월세  23.73  202302   11   5,000   \n",
              "40  경기도 용인기흥구 구갈동  582-4  582   4   한진에버빌    월세  50.89  202304   26   5,149   \n",
              "\n",
              "    ...         전환후가격  층  건축년도       도로명  계약기간시작    계약기간종료  계약구분 갱신요구권 사용  \\\n",
              "0   ...   6209.090909  5  2007     강남로 3       -       NaN     -        -   \n",
              "1   ...   7618.181818  5  2007     강남로 3       -       NaN     -        -   \n",
              "2   ...   7081.818182  5  2007     강남로 3  202109  202209.0    신규        -   \n",
              "3   ...   5990.909091  5  2007     강남로 3       -       NaN     -        -   \n",
              "4   ...   7736.363636  5  2007     강남로 3  202211  202311.0    신규        -   \n",
              "..  ...           ... ..   ...       ...     ...       ...   ...      ...   \n",
              "36  ...   6090.909091  2  2017  중부대로 559       -       NaN     -        -   \n",
              "37  ...   4113.545455  4  2017  중부대로 559       -       NaN     -        -   \n",
              "38  ...  11000.000000  5  2017  중부대로 559       -       NaN     -        -   \n",
              "39  ...  12200.000000  6  2017  중부대로 559  202302  202402.0    신규        -   \n",
              "40  ...   6676.272727  3  2017  중부대로 559       -       NaN     -        -   \n",
              "\n",
              "   종전보증금 종전월세  \n",
              "0    NaN  NaN  \n",
              "1    NaN  NaN  \n",
              "2    0.0  0.0  \n",
              "3    NaN  NaN  \n",
              "4    0.0  0.0  \n",
              "..   ...  ...  \n",
              "36   NaN  NaN  \n",
              "37   NaN  NaN  \n",
              "38   NaN  NaN  \n",
              "39   0.0  0.0  \n",
              "40   NaN  NaN  \n",
              "\n",
              "[456 rows x 21 columns]"
            ],
            "text/html": [
              "\n",
              "  <div id=\"df-e381b3d3-41a5-4747-954d-d5d39fb57d8a\">\n",
              "    <div class=\"colab-df-container\">\n",
              "      <div>\n",
              "<style scoped>\n",
              "    .dataframe tbody tr th:only-of-type {\n",
              "        vertical-align: middle;\n",
              "    }\n",
              "\n",
              "    .dataframe tbody tr th {\n",
              "        vertical-align: top;\n",
              "    }\n",
              "\n",
              "    .dataframe thead th {\n",
              "        text-align: right;\n",
              "    }\n",
              "</style>\n",
              "<table border=\"1\" class=\"dataframe\">\n",
              "  <thead>\n",
              "    <tr style=\"text-align: right;\">\n",
              "      <th></th>\n",
              "      <th>시군구</th>\n",
              "      <th>번지</th>\n",
              "      <th>본번</th>\n",
              "      <th>부번</th>\n",
              "      <th>단지명</th>\n",
              "      <th>전월세구분</th>\n",
              "      <th>전용면적</th>\n",
              "      <th>계약년월</th>\n",
              "      <th>계약일</th>\n",
              "      <th>보증금</th>\n",
              "      <th>...</th>\n",
              "      <th>전환후가격</th>\n",
              "      <th>층</th>\n",
              "      <th>건축년도</th>\n",
              "      <th>도로명</th>\n",
              "      <th>계약기간시작</th>\n",
              "      <th>계약기간종료</th>\n",
              "      <th>계약구분</th>\n",
              "      <th>갱신요구권 사용</th>\n",
              "      <th>종전보증금</th>\n",
              "      <th>종전월세</th>\n",
              "    </tr>\n",
              "  </thead>\n",
              "  <tbody>\n",
              "    <tr>\n",
              "      <th>0</th>\n",
              "      <td>경기도 용인기흥구 구갈동</td>\n",
              "      <td>581-1</td>\n",
              "      <td>581</td>\n",
              "      <td>1</td>\n",
              "      <td>강남앤플러스</td>\n",
              "      <td>월세</td>\n",
              "      <td>11.03</td>\n",
              "      <td>201802</td>\n",
              "      <td>13</td>\n",
              "      <td>100</td>\n",
              "      <td>...</td>\n",
              "      <td>6209.090909</td>\n",
              "      <td>5</td>\n",
              "      <td>2007</td>\n",
              "      <td>강남로 3</td>\n",
              "      <td>-</td>\n",
              "      <td>NaN</td>\n",
              "      <td>-</td>\n",
              "      <td>-</td>\n",
              "      <td>NaN</td>\n",
              "      <td>NaN</td>\n",
              "    </tr>\n",
              "    <tr>\n",
              "      <th>1</th>\n",
              "      <td>경기도 용인기흥구 구갈동</td>\n",
              "      <td>581-1</td>\n",
              "      <td>581</td>\n",
              "      <td>1</td>\n",
              "      <td>강남앤플러스</td>\n",
              "      <td>월세</td>\n",
              "      <td>13.77</td>\n",
              "      <td>201911</td>\n",
              "      <td>19</td>\n",
              "      <td>200</td>\n",
              "      <td>...</td>\n",
              "      <td>7618.181818</td>\n",
              "      <td>5</td>\n",
              "      <td>2007</td>\n",
              "      <td>강남로 3</td>\n",
              "      <td>-</td>\n",
              "      <td>NaN</td>\n",
              "      <td>-</td>\n",
              "      <td>-</td>\n",
              "      <td>NaN</td>\n",
              "      <td>NaN</td>\n",
              "    </tr>\n",
              "    <tr>\n",
              "      <th>2</th>\n",
              "      <td>경기도 용인기흥구 구갈동</td>\n",
              "      <td>581-1</td>\n",
              "      <td>581</td>\n",
              "      <td>1</td>\n",
              "      <td>강남앤플러스</td>\n",
              "      <td>월세</td>\n",
              "      <td>12.63</td>\n",
              "      <td>202109</td>\n",
              "      <td>25</td>\n",
              "      <td>100</td>\n",
              "      <td>...</td>\n",
              "      <td>7081.818182</td>\n",
              "      <td>5</td>\n",
              "      <td>2007</td>\n",
              "      <td>강남로 3</td>\n",
              "      <td>202109</td>\n",
              "      <td>202209.0</td>\n",
              "      <td>신규</td>\n",
              "      <td>-</td>\n",
              "      <td>0.0</td>\n",
              "      <td>0.0</td>\n",
              "    </tr>\n",
              "    <tr>\n",
              "      <th>3</th>\n",
              "      <td>경기도 용인기흥구 구갈동</td>\n",
              "      <td>581-1</td>\n",
              "      <td>581</td>\n",
              "      <td>1</td>\n",
              "      <td>강남앤플러스</td>\n",
              "      <td>월세</td>\n",
              "      <td>10.58</td>\n",
              "      <td>202208</td>\n",
              "      <td>10</td>\n",
              "      <td>100</td>\n",
              "      <td>...</td>\n",
              "      <td>5990.909091</td>\n",
              "      <td>5</td>\n",
              "      <td>2007</td>\n",
              "      <td>강남로 3</td>\n",
              "      <td>-</td>\n",
              "      <td>NaN</td>\n",
              "      <td>-</td>\n",
              "      <td>-</td>\n",
              "      <td>NaN</td>\n",
              "      <td>NaN</td>\n",
              "    </tr>\n",
              "    <tr>\n",
              "      <th>4</th>\n",
              "      <td>경기도 용인기흥구 구갈동</td>\n",
              "      <td>581-1</td>\n",
              "      <td>581</td>\n",
              "      <td>1</td>\n",
              "      <td>강남앤플러스</td>\n",
              "      <td>월세</td>\n",
              "      <td>13.47</td>\n",
              "      <td>202211</td>\n",
              "      <td>1</td>\n",
              "      <td>100</td>\n",
              "      <td>...</td>\n",
              "      <td>7736.363636</td>\n",
              "      <td>5</td>\n",
              "      <td>2007</td>\n",
              "      <td>강남로 3</td>\n",
              "      <td>202211</td>\n",
              "      <td>202311.0</td>\n",
              "      <td>신규</td>\n",
              "      <td>-</td>\n",
              "      <td>0.0</td>\n",
              "      <td>0.0</td>\n",
              "    </tr>\n",
              "    <tr>\n",
              "      <th>...</th>\n",
              "      <td>...</td>\n",
              "      <td>...</td>\n",
              "      <td>...</td>\n",
              "      <td>...</td>\n",
              "      <td>...</td>\n",
              "      <td>...</td>\n",
              "      <td>...</td>\n",
              "      <td>...</td>\n",
              "      <td>...</td>\n",
              "      <td>...</td>\n",
              "      <td>...</td>\n",
              "      <td>...</td>\n",
              "      <td>...</td>\n",
              "      <td>...</td>\n",
              "      <td>...</td>\n",
              "      <td>...</td>\n",
              "      <td>...</td>\n",
              "      <td>...</td>\n",
              "      <td>...</td>\n",
              "      <td>...</td>\n",
              "      <td>...</td>\n",
              "    </tr>\n",
              "    <tr>\n",
              "      <th>36</th>\n",
              "      <td>경기도 용인기흥구 구갈동</td>\n",
              "      <td>582-4</td>\n",
              "      <td>582</td>\n",
              "      <td>4</td>\n",
              "      <td>한진에버빌</td>\n",
              "      <td>월세</td>\n",
              "      <td>28.51</td>\n",
              "      <td>202209</td>\n",
              "      <td>6</td>\n",
              "      <td>200</td>\n",
              "      <td>...</td>\n",
              "      <td>6090.909091</td>\n",
              "      <td>2</td>\n",
              "      <td>2017</td>\n",
              "      <td>중부대로 559</td>\n",
              "      <td>-</td>\n",
              "      <td>NaN</td>\n",
              "      <td>-</td>\n",
              "      <td>-</td>\n",
              "      <td>NaN</td>\n",
              "      <td>NaN</td>\n",
              "    </tr>\n",
              "    <tr>\n",
              "      <th>37</th>\n",
              "      <td>경기도 용인기흥구 구갈동</td>\n",
              "      <td>582-4</td>\n",
              "      <td>582</td>\n",
              "      <td>4</td>\n",
              "      <td>한진에버빌</td>\n",
              "      <td>월세</td>\n",
              "      <td>50.89</td>\n",
              "      <td>202212</td>\n",
              "      <td>1</td>\n",
              "      <td>1,059</td>\n",
              "      <td>...</td>\n",
              "      <td>4113.545455</td>\n",
              "      <td>4</td>\n",
              "      <td>2017</td>\n",
              "      <td>중부대로 559</td>\n",
              "      <td>-</td>\n",
              "      <td>NaN</td>\n",
              "      <td>-</td>\n",
              "      <td>-</td>\n",
              "      <td>NaN</td>\n",
              "      <td>NaN</td>\n",
              "    </tr>\n",
              "    <tr>\n",
              "      <th>38</th>\n",
              "      <td>경기도 용인기흥구 구갈동</td>\n",
              "      <td>582-4</td>\n",
              "      <td>582</td>\n",
              "      <td>4</td>\n",
              "      <td>한진에버빌</td>\n",
              "      <td>전세</td>\n",
              "      <td>23.73</td>\n",
              "      <td>202212</td>\n",
              "      <td>27</td>\n",
              "      <td>11,000</td>\n",
              "      <td>...</td>\n",
              "      <td>11000.000000</td>\n",
              "      <td>5</td>\n",
              "      <td>2017</td>\n",
              "      <td>중부대로 559</td>\n",
              "      <td>-</td>\n",
              "      <td>NaN</td>\n",
              "      <td>-</td>\n",
              "      <td>-</td>\n",
              "      <td>NaN</td>\n",
              "      <td>NaN</td>\n",
              "    </tr>\n",
              "    <tr>\n",
              "      <th>39</th>\n",
              "      <td>경기도 용인기흥구 구갈동</td>\n",
              "      <td>582-4</td>\n",
              "      <td>582</td>\n",
              "      <td>4</td>\n",
              "      <td>한진에버빌</td>\n",
              "      <td>월세</td>\n",
              "      <td>23.73</td>\n",
              "      <td>202302</td>\n",
              "      <td>11</td>\n",
              "      <td>5,000</td>\n",
              "      <td>...</td>\n",
              "      <td>12200.000000</td>\n",
              "      <td>6</td>\n",
              "      <td>2017</td>\n",
              "      <td>중부대로 559</td>\n",
              "      <td>202302</td>\n",
              "      <td>202402.0</td>\n",
              "      <td>신규</td>\n",
              "      <td>-</td>\n",
              "      <td>0.0</td>\n",
              "      <td>0.0</td>\n",
              "    </tr>\n",
              "    <tr>\n",
              "      <th>40</th>\n",
              "      <td>경기도 용인기흥구 구갈동</td>\n",
              "      <td>582-4</td>\n",
              "      <td>582</td>\n",
              "      <td>4</td>\n",
              "      <td>한진에버빌</td>\n",
              "      <td>월세</td>\n",
              "      <td>50.89</td>\n",
              "      <td>202304</td>\n",
              "      <td>26</td>\n",
              "      <td>5,149</td>\n",
              "      <td>...</td>\n",
              "      <td>6676.272727</td>\n",
              "      <td>3</td>\n",
              "      <td>2017</td>\n",
              "      <td>중부대로 559</td>\n",
              "      <td>-</td>\n",
              "      <td>NaN</td>\n",
              "      <td>-</td>\n",
              "      <td>-</td>\n",
              "      <td>NaN</td>\n",
              "      <td>NaN</td>\n",
              "    </tr>\n",
              "  </tbody>\n",
              "</table>\n",
              "<p>456 rows × 21 columns</p>\n",
              "</div>\n",
              "      <button class=\"colab-df-convert\" onclick=\"convertToInteractive('df-e381b3d3-41a5-4747-954d-d5d39fb57d8a')\"\n",
              "              title=\"Convert this dataframe to an interactive table.\"\n",
              "              style=\"display:none;\">\n",
              "        \n",
              "  <svg xmlns=\"http://www.w3.org/2000/svg\" height=\"24px\"viewBox=\"0 0 24 24\"\n",
              "       width=\"24px\">\n",
              "    <path d=\"M0 0h24v24H0V0z\" fill=\"none\"/>\n",
              "    <path d=\"M18.56 5.44l.94 2.06.94-2.06 2.06-.94-2.06-.94-.94-2.06-.94 2.06-2.06.94zm-11 1L8.5 8.5l.94-2.06 2.06-.94-2.06-.94L8.5 2.5l-.94 2.06-2.06.94zm10 10l.94 2.06.94-2.06 2.06-.94-2.06-.94-.94-2.06-.94 2.06-2.06.94z\"/><path d=\"M17.41 7.96l-1.37-1.37c-.4-.4-.92-.59-1.43-.59-.52 0-1.04.2-1.43.59L10.3 9.45l-7.72 7.72c-.78.78-.78 2.05 0 2.83L4 21.41c.39.39.9.59 1.41.59.51 0 1.02-.2 1.41-.59l7.78-7.78 2.81-2.81c.8-.78.8-2.07 0-2.86zM5.41 20L4 18.59l7.72-7.72 1.47 1.35L5.41 20z\"/>\n",
              "  </svg>\n",
              "      </button>\n",
              "      \n",
              "  <style>\n",
              "    .colab-df-container {\n",
              "      display:flex;\n",
              "      flex-wrap:wrap;\n",
              "      gap: 12px;\n",
              "    }\n",
              "\n",
              "    .colab-df-convert {\n",
              "      background-color: #E8F0FE;\n",
              "      border: none;\n",
              "      border-radius: 50%;\n",
              "      cursor: pointer;\n",
              "      display: none;\n",
              "      fill: #1967D2;\n",
              "      height: 32px;\n",
              "      padding: 0 0 0 0;\n",
              "      width: 32px;\n",
              "    }\n",
              "\n",
              "    .colab-df-convert:hover {\n",
              "      background-color: #E2EBFA;\n",
              "      box-shadow: 0px 1px 2px rgba(60, 64, 67, 0.3), 0px 1px 3px 1px rgba(60, 64, 67, 0.15);\n",
              "      fill: #174EA6;\n",
              "    }\n",
              "\n",
              "    [theme=dark] .colab-df-convert {\n",
              "      background-color: #3B4455;\n",
              "      fill: #D2E3FC;\n",
              "    }\n",
              "\n",
              "    [theme=dark] .colab-df-convert:hover {\n",
              "      background-color: #434B5C;\n",
              "      box-shadow: 0px 1px 3px 1px rgba(0, 0, 0, 0.15);\n",
              "      filter: drop-shadow(0px 1px 2px rgba(0, 0, 0, 0.3));\n",
              "      fill: #FFFFFF;\n",
              "    }\n",
              "  </style>\n",
              "\n",
              "      <script>\n",
              "        const buttonEl =\n",
              "          document.querySelector('#df-e381b3d3-41a5-4747-954d-d5d39fb57d8a button.colab-df-convert');\n",
              "        buttonEl.style.display =\n",
              "          google.colab.kernel.accessAllowed ? 'block' : 'none';\n",
              "\n",
              "        async function convertToInteractive(key) {\n",
              "          const element = document.querySelector('#df-e381b3d3-41a5-4747-954d-d5d39fb57d8a');\n",
              "          const dataTable =\n",
              "            await google.colab.kernel.invokeFunction('convertToInteractive',\n",
              "                                                     [key], {});\n",
              "          if (!dataTable) return;\n",
              "\n",
              "          const docLinkHtml = 'Like what you see? Visit the ' +\n",
              "            '<a target=\"_blank\" href=https://colab.research.google.com/notebooks/data_table.ipynb>data table notebook</a>'\n",
              "            + ' to learn more about interactive tables.';\n",
              "          element.innerHTML = '';\n",
              "          dataTable['output_type'] = 'display_data';\n",
              "          await google.colab.output.renderOutput(dataTable, element);\n",
              "          const docLink = document.createElement('div');\n",
              "          docLink.innerHTML = docLinkHtml;\n",
              "          element.appendChild(docLink);\n",
              "        }\n",
              "      </script>\n",
              "    </div>\n",
              "  </div>\n",
              "  "
            ]
          },
          "metadata": {},
          "execution_count": 13
        }
      ]
    },
    {
      "cell_type": "code",
      "source": [
        "data['전환후가격'].corr(data['전용면적'])"
      ],
      "metadata": {
        "colab": {
          "base_uri": "https://localhost:8080/"
        },
        "id": "ZodysQ7SMDSa",
        "outputId": "214073e5-326c-49cf-cad7-2ae65f8b8ce8"
      },
      "execution_count": null,
      "outputs": [
        {
          "output_type": "execute_result",
          "data": {
            "text/plain": [
              "0.6162054367464478"
            ]
          },
          "metadata": {},
          "execution_count": 14
        }
      ]
    },
    {
      "cell_type": "code",
      "source": [
        "palace2018area = palace[palace['계약년월'].astype(str).str.startswith('2018')]\n",
        "palace2018area51 = palace2018area.loc[(palace2018area['전용면적'] == float(\"51.16\"))]\n",
        "palace2018area40=palace2018area.loc[(palace2018area['전용면적'] == float(\"40.25\"))]\n",
        "palace2018area38=palace2018area.loc[(palace2018area['전용면적'] == float(\"38.73\"))]\n",
        "palace2018area19=palace2018area.loc[(palace2018area['전용면적'] == float(\"19.22\"))]\n",
        "\n",
        "palace2018area51_average = palace2018area51.전환후가격 / palace2018area51.전용면적\n",
        "palace2018area40_average = palace2018area40.전환후가격 / palace2018area40.전용면적\n",
        "palace2018area38_average = palace2018area38.전환후가격 / palace2018area38.전용면적\n",
        "palace2018area19_average = palace2018area19.전환후가격 / palace2018area19.전용면적\n",
        "z=palace2018area51_average.mean()\n",
        "x=palace2018area40_average.mean()\n",
        "y=palace2018area38_average.mean()\n",
        "p=palace2018area19_average.mean()"
      ],
      "metadata": {
        "id": "xEOScoS4ONNx"
      },
      "execution_count": null,
      "outputs": []
    },
    {
      "cell_type": "code",
      "source": [
        "area = [\"51area\", \"41area\", \"38area\", \"19area\"]\n",
        "price = [z,x,y,p]\n",
        "\n",
        "import matplotlib.pyplot as plt\n",
        "\n",
        "plt.bar(area, price)\n",
        "\n",
        "plt.title(\"price ranking by square meter\")\n",
        "plt.xlabel(\"area\")\n",
        "plt.ylabel(\"price by square meter\")\n",
        "\n",
        "plt.show()"
      ],
      "metadata": {
        "colab": {
          "base_uri": "https://localhost:8080/",
          "height": 472
        },
        "id": "88pCAIzjQUGW",
        "outputId": "a570e0bc-2f62-41bd-e66d-a815d26a3f01"
      },
      "execution_count": null,
      "outputs": [
        {
          "output_type": "display_data",
          "data": {
            "text/plain": [
              "<Figure size 640x480 with 1 Axes>"
            ],
            "image/png": "[encoded data removed]"
          },
          "metadata": {}
        }
      ]
    },
    {
      "cell_type": "markdown",
      "source": [
        "계약 갱신 청구권 사용 시 보증금의 증감률 파악 값"
      ],
      "metadata": {
        "id": "K0kK1t-WSC3T"
      }
    },
    {
      "cell_type": "code",
      "source": [
        "require1=data.loc[(data['갱신요구권 사용'] == \"사용\")]"
      ],
      "metadata": {
        "id": "SLfX5hbBWoMb"
      },
      "execution_count": null,
      "outputs": []
    },
    {
      "cell_type": "code",
      "source": [
        "require1data=require1['보증금'].str.replace(',', '').astype('int') / require1['종전보증금'].str.replace(',', '').astype('int')\n",
        "require1data"
      ],
      "metadata": {
        "colab": {
          "base_uri": "https://localhost:8080/"
        },
        "id": "y8kVhnlIXhxS",
        "outputId": "ab60519f-c547-464c-f704-b9351f4a5150"
      },
      "execution_count": null,
      "outputs": [
        {
          "output_type": "execute_result",
          "data": {
            "text/plain": [
              "47    1.050000\n",
              "50    1.000000\n",
              "58    1.046667\n",
              "66    1.000000\n",
              "21    1.050000\n",
              "dtype: float64"
            ]
          },
          "metadata": {},
          "execution_count": 18
        }
      ]
    },
    {
      "cell_type": "code",
      "source": [
        "require1data.mean()"
      ],
      "metadata": {
        "colab": {
          "base_uri": "https://localhost:8080/"
        },
        "id": "CvkcxOM2ed1H",
        "outputId": "c742759e-18a5-4c54-e979-d1620f12ae0e"
      },
      "execution_count": null,
      "outputs": [
        {
          "output_type": "execute_result",
          "data": {
            "text/plain": [
              "1.0293333333333332"
            ]
          },
          "metadata": {},
          "execution_count": 19
        }
      ]
    },
    {
      "cell_type": "code",
      "source": [
        "require1['월세'].astype('int') / require1['종전월세'].astype('int')"
      ],
      "metadata": {
        "colab": {
          "base_uri": "https://localhost:8080/"
        },
        "id": "Qq41_U1DdgiZ",
        "outputId": "b75e13ee-163e-4163-80fa-0a51a0a73b60"
      },
      "execution_count": null,
      "outputs": [
        {
          "output_type": "execute_result",
          "data": {
            "text/plain": [
              "47    NaN\n",
              "50    NaN\n",
              "58    NaN\n",
              "66    1.0\n",
              "21    NaN\n",
              "dtype: float64"
            ]
          },
          "metadata": {},
          "execution_count": 20
        }
      ]
    },
    {
      "cell_type": "markdown",
      "source": [
        "갱신청구권은 사용 안했지만 갱신으로 구분되어 있는 모든 행"
      ],
      "metadata": {
        "id": "DdGN6mkdjyhB"
      }
    },
    {
      "cell_type": "code",
      "source": [
        "require2=data.loc[(data['갱신요구권 사용'] == \"-\") & (data['계약구분'] == \"갱신\")]\n",
        "require2.head"
      ],
      "metadata": {
        "colab": {
          "base_uri": "https://localhost:8080/"
        },
        "id": "3Zj5Gd-mfimT",
        "outputId": "c19a7e9e-fca0-474c-f7cb-b9709327e97c"
      },
      "execution_count": null,
      "outputs": [
        {
          "output_type": "execute_result",
          "data": {
            "text/plain": [
              "<bound method NDFrame.head of                시군구     번지   본번  부번       단지명 전월세구분   전용면적    계약년월  계약일  \\\n",
              "53   경기도 용인기흥구 구갈동  596-1  596   1  강남대 팰리스뷰    전세  38.73  202201   21   \n",
              "63   경기도 용인기흥구 구갈동  596-1  596   1  강남대 팰리스뷰    월세  38.73  202301    4   \n",
              "92   경기도 용인기흥구 구갈동  596-1  596   1  강남대 팰리스뷰    월세  19.22  202210   11   \n",
              "27   경기도 용인기흥구 구갈동    596  596   0    강남 피아스    전세  47.61  202207   19   \n",
              "30   경기도 용인기흥구 구갈동    596  596   0    강남 피아스    월세  47.61  202210   10   \n",
              "168  경기도 용인기흥구 구갈동  595-3  595   3     네오플로스    월세  16.69  202107   12   \n",
              "210  경기도 용인기흥구 구갈동  595-3  595   3     네오플로스    월세  13.53  202203   15   \n",
              "211  경기도 용인기흥구 구갈동  595-3  595   3     네오플로스    월세  12.63  202203   19   \n",
              "212  경기도 용인기흥구 구갈동  595-3  595   3     네오플로스    월세  13.53  202203   30   \n",
              "220  경기도 용인기흥구 구갈동  595-3  595   3     네오플로스    전세  28.02  202205    7   \n",
              "235  경기도 용인기흥구 구갈동  595-3  595   3     네오플로스    월세  13.53  202207   28   \n",
              "245  경기도 용인기흥구 구갈동  595-3  595   3     네오플로스    월세  12.63  202210   11   \n",
              "246  경기도 용인기흥구 구갈동  595-3  595   3     네오플로스    월세  12.63  202210   15   \n",
              "248  경기도 용인기흥구 구갈동  595-3  595   3     네오플로스    월세  14.30  202211    4   \n",
              "258  경기도 용인기흥구 구갈동  595-3  595   3     네오플로스    월세  12.63  202212   29   \n",
              "264  경기도 용인기흥구 구갈동  595-3  595   3     네오플로스    월세  12.63  202302    4   \n",
              "272  경기도 용인기흥구 구갈동  595-3  595   3     네오플로스    월세  12.63  202304    9   \n",
              "273  경기도 용인기흥구 구갈동  595-3  595   3     네오플로스    월세  12.63  202304   27   \n",
              "\n",
              "        보증금  ...         전환후가격   층  건축년도       도로명  계약기간시작    계약기간종료  계약구분  \\\n",
              "53   15,300  ...  15300.000000   4  2015            202202  202402.0    갱신   \n",
              "63    1,000  ...  17363.636360   8  2015            202302  202402.0    갱신   \n",
              "92    1,000  ...  11036.363640   3  2015            202211  202310.0    갱신   \n",
              "27   13,000  ...  13000.000000   7  2008   강남동로 12  202208  202408.0    갱신   \n",
              "30   10,000  ...  15454.545450   7  2008   강남동로 12  202210  202310.0    갱신   \n",
              "168     500  ...  11409.090910   9  2014  중부대로 583  202108  202208.0    갱신   \n",
              "210     300  ...  10118.181820   8  2014  중부대로 583       -       NaN    갱신   \n",
              "211     300  ...   9027.272727   4  2014  중부대로 583  202204  202304.0    갱신   \n",
              "212     500  ...  10754.545450   7  2014  중부대로 583  202204  202304.0    갱신   \n",
              "220  13,230  ...  13230.000000  10  2014  중부대로 583  202206  202305.0    갱신   \n",
              "235   1,000  ...  11909.090910   4  2014  중부대로 583  202208  202308.0    갱신   \n",
              "245     500  ...   9663.636364   6  2014  중부대로 583  202210  202310.0    갱신   \n",
              "246     500  ...   9663.636364   7  2014  중부대로 583  202211  202311.0    갱신   \n",
              "248     500  ...  11845.454550   5  2014  중부대로 583  202212  202312.0    갱신   \n",
              "258     500  ...   9663.636364  10  2014  중부대로 583  202301  202401.0    갱신   \n",
              "264   1,000  ...   9727.272727   4  2014  중부대로 583  202302  202402.0    갱신   \n",
              "272     300  ...  10118.181820   7  2014  중부대로 583       -       NaN    갱신   \n",
              "273     500  ...   9663.636364   8  2014  중부대로 583  202304  202311.0    갱신   \n",
              "\n",
              "    갱신요구권 사용   종전보증금  종전월세  \n",
              "53         -  14,500   0.0  \n",
              "63         -   1,000  68.0  \n",
              "92         -   1,000  44.0  \n",
              "27         -  11,000   0.0  \n",
              "30         -  10,000  20.0  \n",
              "168        -     500  50.0  \n",
              "210        -     300  45.0  \n",
              "211        -     300  40.0  \n",
              "212        -     500  45.0  \n",
              "220        -  12,600   0.0  \n",
              "235        -     300  45.0  \n",
              "245        -     500  42.0  \n",
              "246        -     500  40.0  \n",
              "248        -     500  50.0  \n",
              "258        -     500  40.0  \n",
              "264        -   1,000  37.0  \n",
              "272        -     300  42.0  \n",
              "273        -     500  40.0  \n",
              "\n",
              "[18 rows x 21 columns]>"
            ]
          },
          "metadata": {},
          "execution_count": 34
        }
      ]
    },
    {
      "cell_type": "code",
      "source": [
        "require2data=require2['보증금'].str.replace(',', '').astype('int') / require2['종전보증금'].str.replace(',', '').astype('int')\n",
        "require2data"
      ],
      "metadata": {
        "colab": {
          "base_uri": "https://localhost:8080/"
        },
        "id": "J_rPc5KFZKqB",
        "outputId": "ca26e8b3-edc6-43ae-b4a2-29ce2e390587"
      },
      "execution_count": null,
      "outputs": [
        {
          "output_type": "execute_result",
          "data": {
            "text/plain": [
              "53     1.055172\n",
              "63     1.000000\n",
              "92     1.000000\n",
              "27     1.181818\n",
              "30     1.000000\n",
              "168    1.000000\n",
              "210    1.000000\n",
              "211    1.000000\n",
              "212    1.000000\n",
              "220    1.050000\n",
              "235    3.333333\n",
              "245    1.000000\n",
              "246    1.000000\n",
              "248    1.000000\n",
              "258    1.000000\n",
              "264    1.000000\n",
              "272    1.000000\n",
              "273    1.000000\n",
              "dtype: float64"
            ]
          },
          "metadata": {},
          "execution_count": 27
        }
      ]
    },
    {
      "cell_type": "code",
      "source": [
        "require3data = require2data.drop(require2data.index[10])\n",
        "require3data"
      ],
      "metadata": {
        "colab": {
          "base_uri": "https://localhost:8080/"
        },
        "id": "qzNUK5fBFVgj",
        "outputId": "bc6b5230-cdd2-46e2-c909-774d2dc0c60f"
      },
      "execution_count": null,
      "outputs": [
        {
          "output_type": "execute_result",
          "data": {
            "text/plain": [
              "53     1.055172\n",
              "63     1.000000\n",
              "92     1.000000\n",
              "27     1.181818\n",
              "30     1.000000\n",
              "168    1.000000\n",
              "210    1.000000\n",
              "211    1.000000\n",
              "212    1.000000\n",
              "220    1.050000\n",
              "245    1.000000\n",
              "246    1.000000\n",
              "248    1.000000\n",
              "258    1.000000\n",
              "264    1.000000\n",
              "272    1.000000\n",
              "273    1.000000\n",
              "dtype: float64"
            ]
          },
          "metadata": {},
          "execution_count": 28
        }
      ]
    },
    {
      "cell_type": "code",
      "source": [
        "require3data.mean()"
      ],
      "metadata": {
        "colab": {
          "base_uri": "https://localhost:8080/"
        },
        "id": "X2ExiiUQe1Yy",
        "outputId": "177b309f-7885-423f-fbf3-fd20df820b57"
      },
      "execution_count": null,
      "outputs": [
        {
          "output_type": "execute_result",
          "data": {
            "text/plain": [
              "1.0168817997418405"
            ]
          },
          "metadata": {},
          "execution_count": 30
        }
      ]
    },
    {
      "cell_type": "code",
      "source": [
        "f=require2['월세'].astype('int') / require2['종전월세'].astype('int')"
      ],
      "metadata": {
        "id": "hJKMnLrbciUH"
      },
      "execution_count": null,
      "outputs": []
    },
    {
      "cell_type": "code",
      "source": [
        "f.mean()"
      ],
      "metadata": {
        "id": "Kmuek4bF_9S6",
        "outputId": "d1e06eed-5832-43ee-9b3d-c631223bf150",
        "colab": {
          "base_uri": "https://localhost:8080/"
        }
      },
      "execution_count": null,
      "outputs": [
        {
          "output_type": "execute_result",
          "data": {
            "text/plain": [
              "1.059764061999356"
            ]
          },
          "metadata": {},
          "execution_count": 39
        }
      ]
    },
    {
      "cell_type": "markdown",
      "source": [],
      "metadata": {
        "id": "Szb-1pcp_9Nn"
      }
    },
    {
      "cell_type": "markdown",
      "source": [
        "계약기간 분석"
      ],
      "metadata": {
        "id": "qZD7kvGj0eu3"
      }
    },
    {
      "cell_type": "code",
      "source": [
        "day=data.loc[(data['계약기간시작'] != \"-\")]\n",
        "jeonday=day.loc[(day['전월세구분'] == \"전세\")]\n",
        "wuelday=day.loc[(day['전월세구분'] == \"월세\")]"
      ],
      "metadata": {
        "id": "dKwzGzDfjnry"
      },
      "execution_count": null,
      "outputs": []
    },
    {
      "cell_type": "markdown",
      "source": [
        "전세"
      ],
      "metadata": {
        "id": "tOjPC6AFfqDi"
      }
    },
    {
      "cell_type": "code",
      "source": [
        "import pandas as pd\n",
        "\n",
        "start_dates = pd.to_datetime(jeonday['계약기간시작'], format='%Y%m')\n",
        "end_dates = pd.to_datetime(jeonday['계약기간종료'], format='%Y%m')\n",
        "\n",
        "intervals1 = end_dates - start_dates\n",
        "\n",
        "a = pd.DataFrame({'계약기간시작': start_dates, '계약기간종료': end_dates, '시간 간격': intervals1})\n",
        "\n",
        "print(a)"
      ],
      "metadata": {
        "colab": {
          "base_uri": "https://localhost:8080/"
        },
        "id": "Hi7JIfcTq0Vo",
        "outputId": "b80944f5-daf3-413f-bc8a-29612ea77b46"
      },
      "execution_count": null,
      "outputs": [
        {
          "output_type": "stream",
          "name": "stdout",
          "text": [
            "        계약기간시작     계약기간종료    시간 간격\n",
            "23  2021-07-01 2023-07-01 730 days\n",
            "24  2021-07-01 2023-07-01 730 days\n",
            "47  2021-06-01 2023-06-01 730 days\n",
            "49  2021-09-01 2023-09-01 730 days\n",
            "50  2021-08-01 2023-08-01 730 days\n",
            "53  2022-02-01 2024-02-01 730 days\n",
            "58  2022-04-01 2024-04-01 731 days\n",
            "60  2022-10-01 2023-10-01 365 days\n",
            "61  2023-01-01 2025-01-01 731 days\n",
            "64  2023-03-01 2025-03-01 731 days\n",
            "20  2021-11-01 2023-11-01 730 days\n",
            "21  2021-12-01 2023-12-01 730 days\n",
            "24  2022-07-01 2024-07-01 731 days\n",
            "25  2022-08-01 2024-08-01 731 days\n",
            "27  2022-08-01 2024-08-01 731 days\n",
            "31  2023-03-01 2025-03-01 731 days\n",
            "34  2023-03-01 2025-03-01 731 days\n",
            "218 2022-05-01 2023-05-01 365 days\n",
            "220 2022-06-01 2023-05-01 334 days\n",
            "228 2022-07-01 2024-07-01 731 days\n",
            "229 2022-08-01 2023-08-01 365 days\n",
            "249 2022-12-01 2024-12-01 731 days\n",
            "252 2022-12-01 2024-12-01 731 days\n",
            "253 2023-01-01 2025-01-01 731 days\n",
            "35  2022-02-01 2023-03-01 393 days\n"
          ]
        }
      ]
    },
    {
      "cell_type": "code",
      "source": [
        "intervals1.describe()"
      ],
      "metadata": {
        "colab": {
          "base_uri": "https://localhost:8080/"
        },
        "id": "UfEhZRVyyZED",
        "outputId": "507138ed-e794-4131-e646-5bdb883e557c"
      },
      "execution_count": null,
      "outputs": [
        {
          "output_type": "execute_result",
          "data": {
            "text/plain": [
              "count                             25\n",
              "mean               657 days 08:38:24\n",
              "std      149 days 17:51:14.233056990\n",
              "min                334 days 00:00:00\n",
              "25%                730 days 00:00:00\n",
              "50%                730 days 00:00:00\n",
              "75%                731 days 00:00:00\n",
              "max                731 days 00:00:00\n",
              "dtype: object"
            ]
          },
          "metadata": {},
          "execution_count": 262
        }
      ]
    },
    {
      "cell_type": "markdown",
      "source": [
        "월세"
      ],
      "metadata": {
        "id": "Pvop7TEggQgj"
      }
    },
    {
      "cell_type": "code",
      "source": [
        "import pandas as pd\n",
        "\n",
        "start_dates = pd.to_datetime(wuelday['계약기간시작'], format='%Y%m')\n",
        "end_dates = pd.to_datetime(wuelday['계약기간종료'], format='%Y%m')\n",
        "\n",
        "intervals2 = end_dates - start_dates\n",
        "\n",
        "a = pd.DataFrame({'계약기간시작': start_dates, '계약기간종료': end_dates, '시간 간격': intervals2})\n",
        "\n",
        "print(a)\n"
      ],
      "metadata": {
        "id": "cGYdbWoNz1_y",
        "colab": {
          "base_uri": "https://localhost:8080/"
        },
        "outputId": "b36ea590-c444-42af-e4ac-4633f143ca82"
      },
      "execution_count": null,
      "outputs": [
        {
          "output_type": "stream",
          "name": "stdout",
          "text": [
            "        계약기간시작     계약기간종료    시간 간격\n",
            "2   2021-09-01 2022-09-01 365 days\n",
            "4   2022-11-01 2023-11-01 365 days\n",
            "5   2023-02-01 2024-02-01 365 days\n",
            "6   2023-03-01 2024-03-01 366 days\n",
            "7   2023-03-01 2023-09-01 184 days\n",
            "..         ...        ...      ...\n",
            "273 2023-04-01 2023-11-01 214 days\n",
            "274 2023-05-01 2024-05-01 366 days\n",
            "31  2021-06-01 2022-06-01 365 days\n",
            "33  2021-09-01 2022-09-01 365 days\n",
            "39  2023-02-01 2024-02-01 365 days\n",
            "\n",
            "[143 rows x 3 columns]\n"
          ]
        }
      ]
    },
    {
      "cell_type": "code",
      "source": [
        "intervals2.describe()"
      ],
      "metadata": {
        "colab": {
          "base_uri": "https://localhost:8080/"
        },
        "id": "J-_LfV8GgBLD",
        "outputId": "f5ac6c41-458b-4de3-bbcb-63a8296365a2"
      },
      "execution_count": null,
      "outputs": [
        {
          "output_type": "execute_result",
          "data": {
            "text/plain": [
              "count                            143\n",
              "mean     399 days 00:10:04.195804196\n",
              "std      115 days 05:17:27.395037708\n",
              "min                184 days 00:00:00\n",
              "25%                365 days 00:00:00\n",
              "50%                365 days 00:00:00\n",
              "75%                365 days 00:00:00\n",
              "max                731 days 00:00:00\n",
              "dtype: object"
            ]
          },
          "metadata": {},
          "execution_count": 266
        }
      ]
    },
    {
      "cell_type": "code",
      "source": [],
      "metadata": {
        "id": "koANscRdgRux"
      },
      "execution_count": null,
      "outputs": []
    }
  ]
}